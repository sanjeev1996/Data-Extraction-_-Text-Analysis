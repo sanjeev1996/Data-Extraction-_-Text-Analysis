{
  "nbformat": 4,
  "nbformat_minor": 0,
  "metadata": {
    "colab": {
      "name": "Tensorflow2.0-basic operation.ipynb",
      "provenance": [],
      "authorship_tag": "ABX9TyPyCEU9qvoc556h9kXjIA1W",
      "include_colab_link": true
    },
    "kernelspec": {
      "name": "python3",
      "display_name": "Python 3"
    },
    "accelerator": "GPU"
  },
  "cells": [
    {
      "cell_type": "markdown",
      "metadata": {
        "id": "view-in-github",
        "colab_type": "text"
      },
      "source": [
        "<a href=\"https://colab.research.google.com/github/sanjeev1996/Data-Extraction-_-Text-Analysis/blob/master/Tensorflow2_0_basic_operation.ipynb\" target=\"_parent\"><img src=\"https://colab.research.google.com/assets/colab-badge.svg\" alt=\"Open In Colab\"/></a>"
      ]
    },
    {
      "cell_type": "code",
      "metadata": {
        "id": "ozub2qyIy2pp",
        "colab_type": "code",
        "colab": {}
      },
      "source": [
        "!pip install tensorflow-gpu==2.0.0"
      ],
      "execution_count": 0,
      "outputs": []
    },
    {
      "cell_type": "code",
      "metadata": {
        "id": "uWRP-WMJzSoX",
        "colab_type": "code",
        "colab": {}
      },
      "source": [
        "import tensorflow as tf"
      ],
      "execution_count": 0,
      "outputs": []
    },
    {
      "cell_type": "code",
      "metadata": {
        "id": "8Qt6JSx67qBC",
        "colab_type": "code",
        "colab": {}
      },
      "source": [
        "a = tf.constant(2)\n",
        "b = tf.constant(3)\n",
        "c = tf.constant(5)\n",
        "\n",
        "# Various tensor operations\n",
        "add = tf.add(a,b)\n",
        "sub = tf.subtract(a,b)\n",
        "mul = tf.multiply(a,b)\n",
        "div = tf.divide(a,b)\n",
        "\n",
        "# Access tensor value\n",
        "print(\"add =\",add.numpy())\n",
        "print(\"sub =\",sub.numpy())\n",
        "print(\"mul =\",mul.numpy())\n",
        "print(\"div =\",div.numpy())"
      ],
      "execution_count": 0,
      "outputs": []
    },
    {
      "cell_type": "code",
      "metadata": {
        "id": "IuhfEQrO8fQs",
        "colab_type": "code",
        "colab": {}
      },
      "source": [
        "# More operations\n",
        "mean = tf.reduce_mean([a,b,c])\n",
        "sum = tf.reduce_sum([a,b,c])\n",
        "\n",
        "print(\"mean=\", mean.numpy())\n",
        "print(\"sum= \", sum.numpy())"
      ],
      "execution_count": 0,
      "outputs": []
    },
    {
      "cell_type": "code",
      "metadata": {
        "id": "iwsjRtRU9SOP",
        "colab_type": "code",
        "colab": {}
      },
      "source": [
        "# Matrix Multiplication\n",
        "matrix1 = tf.constant([[1., 2.],[3., 4.]])\n",
        "matrix2 = tf.constant([[5., 6.],[7., 8.]])\n",
        "\n",
        "product = tf.matmul(matrix1, matrix2)\n",
        "product.numpy()"
      ],
      "execution_count": 0,
      "outputs": []
    },
    {
      "cell_type": "code",
      "metadata": {
        "id": "nKCddQO0_fYk",
        "colab_type": "code",
        "colab": {
          "base_uri": "https://localhost:8080/",
          "height": 34
        },
        "outputId": "46c12973-996a-4aef-f147-f8b1e9a7b16b"
      },
      "source": [
        "# Hello world\n",
        "\n",
        "hello = tf.constant(\"Hello world\")\n",
        "print(hello.numpy())"
      ],
      "execution_count": 16,
      "outputs": [
        {
          "output_type": "stream",
          "text": [
            "b'Hello world'\n"
          ],
          "name": "stdout"
        }
      ]
    }
  ]
}