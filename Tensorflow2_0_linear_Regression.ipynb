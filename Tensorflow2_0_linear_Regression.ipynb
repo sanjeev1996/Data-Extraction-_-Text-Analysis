{
  "nbformat": 4,
  "nbformat_minor": 0,
  "metadata": {
    "colab": {
      "name": "Tensorflow2.0-linear Regression.ipynb",
      "provenance": [],
      "authorship_tag": "ABX9TyPF+YJ/yw6huPhmPw9qUqGP",
      "include_colab_link": true
    },
    "kernelspec": {
      "name": "python3",
      "display_name": "Python 3"
    },
    "accelerator": "GPU"
  },
  "cells": [
    {
      "cell_type": "markdown",
      "metadata": {
        "id": "view-in-github",
        "colab_type": "text"
      },
      "source": [
        "<a href=\"https://colab.research.google.com/github/sanjeev1996/Data-Extraction-_-Text-Analysis/blob/master/Tensorflow2_0_linear_Regression.ipynb\" target=\"_parent\"><img src=\"https://colab.research.google.com/assets/colab-badge.svg\" alt=\"Open In Colab\"/></a>"
      ]
    },
    {
      "cell_type": "code",
      "metadata": {
        "id": "DXuMS7YNAISc",
        "colab_type": "code",
        "colab": {}
      },
      "source": [
        "!pip install tensorflow-gpu==2.0.0"
      ],
      "execution_count": 0,
      "outputs": []
    },
    {
      "cell_type": "code",
      "metadata": {
        "id": "Q2x5Hr5TAafY",
        "colab_type": "code",
        "colab": {}
      },
      "source": [
        "import tensorflow as tf\n",
        "import numpy as np\n",
        "rng = np.random\n",
        "print(tf.__version__)"
      ],
      "execution_count": 0,
      "outputs": []
    },
    {
      "cell_type": "code",
      "metadata": {
        "id": "9HkEOe_QBST8",
        "colab_type": "code",
        "colab": {}
      },
      "source": [
        "learning_rate = 0.01\n",
        "training_steps = 1000\n",
        "display_step = 50"
      ],
      "execution_count": 0,
      "outputs": []
    },
    {
      "cell_type": "code",
      "metadata": {
        "id": "z63FC4C7Bbri",
        "colab_type": "code",
        "outputId": "3294e111-7aa7-4b5c-ac57-801573d3682d",
        "colab": {
          "base_uri": "https://localhost:8080/",
          "height": 34
        }
      },
      "source": [
        "# Training Data\n",
        "X = np.array([3.3,4.4,5.5,6.71,6.93,4.168,9.779,6.182,7.59,2.167,\n",
        "              7.042,10.791,5.313,7.997,5.654,9.27,3.1])\n",
        "Y = np.array([1.7,2.76,2.09,3.19,1.694,1.573,3.366,2.596,2.53,1.221,\n",
        "              2.827,3.465,1.65,2.904,2.42,2.94,1.3])\n",
        "n_samples = X.shape[0]\n",
        "print(n_samples)"
      ],
      "execution_count": 0,
      "outputs": [
        {
          "output_type": "stream",
          "text": [
            "17\n"
          ],
          "name": "stdout"
        }
      ]
    },
    {
      "cell_type": "code",
      "metadata": {
        "id": "u28EMk5TCFJ0",
        "colab_type": "code",
        "colab": {}
      },
      "source": [
        "# Weight and Bias, initialized randomly\n",
        "W = tf.Variable(rng.randn(), name='weight')\n",
        "b = tf.Variable(rng.randn(), name='bias')\n",
        "\n",
        "def linear_regression(x):\n",
        "  return W*x + b\n",
        "\n",
        "def mean_square(y_pred, y_true):\n",
        "  return tf.reduce_sum(tf.pow(y_pred-y_true,2)) / (2*n_samples)\n",
        "\n",
        "# Gradinet Descent Optimizer\n",
        "optimizer = tf.optimizers.SGD(learning_rate)"
      ],
      "execution_count": 0,
      "outputs": []
    },
    {
      "cell_type": "code",
      "metadata": {
        "id": "YTcmNj7kGM0Z",
        "colab_type": "code",
        "colab": {}
      },
      "source": [
        "# Optimzation process\n",
        "def run_optimization():\n",
        "  # computation inside a gardientTape for automatic differentiation\n",
        "  with tf.GradientTape() as g:\n",
        "    pred = linear_regression(X)\n",
        "    loss = mean_square(pred,Y)\n",
        "  \n",
        "  gradients = g.gradient(loss, [W,b])\n",
        "  optimizer.apply_gradients(zip(gradients, [W,b]))\n",
        "  "
      ],
      "execution_count": 0,
      "outputs": []
    },
    {
      "cell_type": "code",
      "metadata": {
        "id": "gB_dvoVSIjrV",
        "colab_type": "code",
        "outputId": "99732f42-0d78-4ab7-bfe8-400f49ab4769",
        "colab": {
          "base_uri": "https://localhost:8080/",
          "height": 357
        }
      },
      "source": [
        "# Run Training, number of steps\n",
        "for step in range(1, training_steps+1):\n",
        "  # update W and b values\n",
        "  run_optimization()\n",
        "\n",
        "  if step % display_step == 0:\n",
        "    pred = linear_regression(X)\n",
        "    loss = mean_square(pred, Y)\n",
        "    print(\"step: %i, loss: %f, W: %f, b: %f\" %(step, loss, W.numpy(), b.numpy()))"
      ],
      "execution_count": 0,
      "outputs": [
        {
          "output_type": "stream",
          "text": [
            "step: 50, loss: 0.078665, W: 0.275260, b: 0.631311\n",
            "step: 100, loss: 0.078467, W: 0.273868, b: 0.641180\n",
            "step: 150, loss: 0.078291, W: 0.272558, b: 0.650467\n",
            "step: 200, loss: 0.078135, W: 0.271325, b: 0.659207\n",
            "step: 250, loss: 0.077997, W: 0.270165, b: 0.667432\n",
            "step: 300, loss: 0.077875, W: 0.269073, b: 0.675172\n",
            "step: 350, loss: 0.077767, W: 0.268046, b: 0.682457\n",
            "step: 400, loss: 0.077671, W: 0.267079, b: 0.689312\n",
            "step: 450, loss: 0.077586, W: 0.266169, b: 0.695763\n",
            "step: 500, loss: 0.077511, W: 0.265312, b: 0.701834\n",
            "step: 550, loss: 0.077444, W: 0.264507, b: 0.707548\n",
            "step: 600, loss: 0.077385, W: 0.263748, b: 0.712924\n",
            "step: 650, loss: 0.077333, W: 0.263034, b: 0.717984\n",
            "step: 700, loss: 0.077287, W: 0.262363, b: 0.722746\n",
            "step: 750, loss: 0.077246, W: 0.261731, b: 0.727227\n",
            "step: 800, loss: 0.077210, W: 0.261136, b: 0.731445\n",
            "step: 850, loss: 0.077178, W: 0.260576, b: 0.735413\n",
            "step: 900, loss: 0.077149, W: 0.260049, b: 0.739148\n",
            "step: 950, loss: 0.077124, W: 0.259553, b: 0.742663\n",
            "step: 1000, loss: 0.077102, W: 0.259087, b: 0.745971\n"
          ],
          "name": "stdout"
        }
      ]
    },
    {
      "cell_type": "code",
      "metadata": {
        "id": "Oe_qNnNUSo2a",
        "colab_type": "code",
        "colab": {}
      },
      "source": [
        "import matplotlib.pyplot as plt"
      ],
      "execution_count": 0,
      "outputs": []
    },
    {
      "cell_type": "code",
      "metadata": {
        "id": "lH8Yzue9Soy_",
        "colab_type": "code",
        "outputId": "66ea5b73-ba32-4ac0-b060-0c80bbb8caee",
        "colab": {
          "base_uri": "https://localhost:8080/",
          "height": 265
        }
      },
      "source": [
        "plt.plot(X, Y, 'ro', label='Original data')\n",
        "plt.plot(X, np.array(W*X + b), label = 'Fitted line')\n",
        "plt.legend()\n",
        "plt.show()"
      ],
      "execution_count": 0,
      "outputs": [
        {
          "output_type": "display_data",
          "data": {
            "image/png": "[encoded data removed]",
            "text/plain": [
              "<Figure size 432x288 with 1 Axes>"
            ]
          },
          "metadata": {
            "tags": []
          }
        }
      ]
    }
  ]
}